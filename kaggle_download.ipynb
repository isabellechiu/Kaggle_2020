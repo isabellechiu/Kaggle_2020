{
  "nbformat": 4,
  "nbformat_minor": 0,
  "metadata": {
    "colab": {
      "name": "kaggle_download.ipynb",
      "provenance": [],
      "toc_visible": true,
      "authorship_tag": "ABX9TyO/218S0Djf+//eNKZrn6GN",
      "include_colab_link": true
    },
    "kernelspec": {
      "name": "python3",
      "display_name": "Python 3"
    },
    "accelerator": "TPU"
  },
  "cells": [
    {
      "cell_type": "markdown",
      "metadata": {
        "id": "view-in-github",
        "colab_type": "text"
      },
      "source": [
        "<a href=\"https://colab.research.google.com/github/isabellechiu/Kaggle_2020/blob/master/kaggle_download.ipynb\" target=\"_parent\"><img src=\"https://colab.research.google.com/assets/colab-badge.svg\" alt=\"Open In Colab\"/></a>"
      ]
    },
    {
      "cell_type": "code",
      "metadata": {
        "id": "HUWyYKB3nKTi",
        "colab_type": "code",
        "colab": {
          "resources": {
            "http://localhost:8080/nbextensions/google.colab/files.js": {
              "data": "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",
              "ok": true,
              "headers": [
                [
                  "content-type",
                  "application/javascript"
                ]
              ],
              "status": 200,
              "status_text": ""
            }
          },
          "base_uri": "https://localhost:8080/",
          "height": 93
        },
        "outputId": "145fe5ea-9bc5-482e-da4c-56b1909943df"
      },
      "source": [
        "from google.colab import files\n",
        "files.upload()"
      ],
      "execution_count": 4,
      "outputs": [
        {
          "output_type": "display_data",
          "data": {
            "text/html": [
              "\n",
              "     <input type=\"file\" id=\"files-276585bd-34ed-498b-a5c6-ed8cf11c649f\" name=\"files[]\" multiple disabled />\n",
              "     <output id=\"result-276585bd-34ed-498b-a5c6-ed8cf11c649f\">\n",
              "      Upload widget is only available when the cell has been executed in the\n",
              "      current browser session. Please rerun this cell to enable.\n",
              "      </output>\n",
              "      <script src=\"/nbextensions/google.colab/files.js\"></script> "
            ],
            "text/plain": [
              "<IPython.core.display.HTML object>"
            ]
          },
          "metadata": {
            "tags": []
          }
        },
        {
          "output_type": "stream",
          "text": [
            "Saving kaggle.json to kaggle.json\n"
          ],
          "name": "stdout"
        },
        {
          "output_type": "execute_result",
          "data": {
            "text/plain": [
              "{'kaggle.json': b'{\"username\":\"isabellechiu\",\"key\":\"9acb49850b4f9373cb2e7979909929fb\"}'}"
            ]
          },
          "metadata": {
            "tags": []
          },
          "execution_count": 4
        }
      ]
    },
    {
      "cell_type": "code",
      "metadata": {
        "id": "is-5J7ohnTEa",
        "colab_type": "code",
        "colab": {}
      },
      "source": [
        "!pip install -q kaggle"
      ],
      "execution_count": 0,
      "outputs": []
    },
    {
      "cell_type": "code",
      "metadata": {
        "id": "oR1RjyNrnkIx",
        "colab_type": "code",
        "colab": {}
      },
      "source": [
        "!mkdir -p ~/.kaggle\n",
        "!cp kaggle.json ~/.kaggle/"
      ],
      "execution_count": 0,
      "outputs": []
    },
    {
      "cell_type": "code",
      "metadata": {
        "id": "NkzICwNUpotp",
        "colab_type": "code",
        "colab": {
          "base_uri": "https://localhost:8080/",
          "height": 35
        },
        "outputId": "2096f25e-b148-4eb8-90c3-3895ca1e0f27"
      },
      "source": [
        "!ls -a"
      ],
      "execution_count": 7,
      "outputs": [
        {
          "output_type": "stream",
          "text": [
            ".  ..  .config\tkaggle.json  sample_data\n"
          ],
          "name": "stdout"
        }
      ]
    },
    {
      "cell_type": "code",
      "metadata": {
        "id": "8hGmLSCCnnrP",
        "colab_type": "code",
        "colab": {
          "base_uri": "https://localhost:8080/",
          "height": 453
        },
        "outputId": "cac4e4ad-7f57-404a-a894-92c245a2228c"
      },
      "source": [
        "!kaggle datasets list"
      ],
      "execution_count": 6,
      "outputs": [
        {
          "output_type": "stream",
          "text": [
            "Warning: Your Kaggle API key is readable by other users on this system! To fix this, you can run 'chmod 600 /root/.kaggle/kaggle.json'\n",
            "Warning: Looks like you're using an outdated API Version, please consider updating (server 1.5.6 / client 1.5.4)\n",
            "ref                                                            title                                                size  lastUpdated          downloadCount  \n",
            "-------------------------------------------------------------  --------------------------------------------------  -----  -------------------  -------------  \n",
            "unanimad/dataisbeautiful                                       Reddit - Data is Beautiful                           11MB  2020-03-21 22:28:28           1005  \n",
            "allen-institute-for-ai/CORD-19-research-challenge              COVID-19 Open Research Dataset Challenge (CORD-19)  646MB  2020-03-20 23:31:34          31967  \n",
            "rubenssjr/brasilian-houses-to-rent                             brazilian_houses_to_rent                            282KB  2020-03-25 22:51:17            959  \n",
            "paultimothymooney/covid19-containment-and-mitigation-measures  COVID-19 containment and mitigation measures         91KB  2020-03-26 14:53:23            193  \n",
            "clmentbisaillon/fake-and-real-news-dataset                     Fake and real news dataset                           41MB  2020-03-26 18:51:15             29  \n",
            "charlieharper/spatial-data-for-cord19-covid19-ordc             Spatial Data for CORD-19 (COVID-19 ORDC)            136MB  2020-03-24 20:17:09             38  \n",
            "skylord/coronawhy                                              CoronaWhy                                           533MB  2020-03-26 21:55:00             11  \n",
            "sudalairajkumar/novel-corona-virus-2019-dataset                Novel Corona Virus 2019 Dataset                     390KB  2020-03-27 04:56:38          85758  \n",
            "kimjihoo/coronavirusdataset                                    Data Science for COVID-19 (DS4C)                      3MB  2020-03-22 04:17:54          21448  \n",
            "jessemostipak/hotel-booking-demand                             Hotel booking demand                                  1MB  2020-02-13 01:27:20          10839  \n",
            "shivamb/real-or-fake-fake-jobposting-prediction                [Real or Fake] Fake JobPosting Prediction            16MB  2020-02-29 08:23:34           2252  \n",
            "brunotly/foreign-exchange-rates-per-dollar-20002019            Foreign Exchange Rates 2000-2019                      1MB  2020-03-03 17:43:07           1801  \n",
            "timoboz/data-science-cheat-sheets                              Data Science Cheat Sheets                           596MB  2020-02-04 19:42:27           6737  \n",
            "imdevskp/sars-outbreak-2003-complete-dataset                   SARS 2003 Outbreak Complete Dataset                  10KB  2020-02-26 10:25:22           2205  \n",
            "imdevskp/ebola-outbreak-20142016-complete-dataset              Ebola 2014-2016 Outbreak Complete Dataset           101KB  2020-02-26 14:36:31           2044  \n",
            "tunguz/big-five-personality-test                               Big Five Personality Test                           159MB  2020-02-17 15:59:37           3306  \n",
            "paultimothymooney/coronavirus-genome-sequence                  Coronavirus Genome Sequence                           9MB  2020-02-29 00:25:13            662  \n",
            "arindam235/startup-investments-crunchbase                      StartUp Investments (Crunchbase)                      3MB  2020-02-17 21:54:42           2308  \n",
            "timoboz/tesla-stock-data-from-2010-to-2020                     Tesla stock data from 2010 to 2020                   46KB  2020-02-04 17:15:32           3168  \n",
            "timoboz/python-data-science-handbook                           Python Data Science Handbook                         15MB  2020-02-04 18:27:14           1544  \n"
          ],
          "name": "stdout"
        }
      ]
    },
    {
      "cell_type": "code",
      "metadata": {
        "id": "QpWUSxmDnrPQ",
        "colab_type": "code",
        "colab": {
          "base_uri": "https://localhost:8080/",
          "height": 453
        },
        "outputId": "e83548c9-555e-4d02-fb90-bccca7ef9ee1"
      },
      "source": [
        "!kaggle datasets list -s Diabetic-Retinopathy-Detection\n",
        "\n"
      ],
      "execution_count": 9,
      "outputs": [
        {
          "output_type": "stream",
          "text": [
            "Warning: Your Kaggle API key is readable by other users on this system! To fix this, you can run 'chmod 600 /root/.kaggle/kaggle.json'\n",
            "Warning: Looks like you're using an outdated API Version, please consider updating (server 1.5.6 / client 1.5.4)\n",
            "ref                                                          title                                              size  lastUpdated          downloadCount  \n",
            "-----------------------------------------------------------  ------------------------------------------------  -----  -------------------  -------------  \n",
            "tanlikesmath/diabetic-retinopathy-resized                    Diabetic Retinopathy (resized)                      7GB  2019-05-08 01:48:17           5594  \n",
            "sovitrath/diabetic-retinopathy-224x224-gaussian-filtered     Diabetic Retinopathy 224x224 Gaussian Filtered    427MB  2020-02-18 02:33:27            708  \n",
            "benjaminwarner/resized-2015-2019-blindness-detection-images  Resized 2015 & 2019 Blindness Detection Images     17GB  2019-07-03 04:01:09           2313  \n",
            "google-brain/messidor2-dr-grades                             MESSIDOR-2 DR Grades                                7KB  2018-07-02 23:18:22           1590  \n",
            "sohaibanwaar1203/prepossessed-arrays-of-binary-data          Diabetic-Ratinopathy_Sample_Dataset_Binary        779MB  2019-01-27 21:08:39            450  \n",
            "currypurin/diabetic-retinopathy-detection-image-size         Diabetic Retinopathy Detection image shape        891KB  2019-07-21 16:39:02            149  \n",
            "sovitrath/diabetic-retinopathy-224x224-grayscale-images      Diabetic Retinopathy 224x224 Grayscale Images     157MB  2020-02-18 02:40:18             50  \n",
            "sohaibanwaar1203/diabetic-rateinopathy-full                  Diabetic Rateinopathy Resized                     391MB  2019-05-29 12:53:30            419  \n",
            "aaryapatel98/indian-diabetic-retinopathy-image-dataset       INDIAN DIABETIC RETINOPATHY IMAGE DATASET         408MB  2020-01-11 17:58:27             71  \n",
            "prasertsak/dr2015-resized                                    Diabetic Retinopathy 2015 (resized)                16GB  2019-08-15 04:45:13            172  \n",
            "dola1507108/diabetic-retinopathy-classified                  Diabetic Retinopathy Classified                     7GB  2019-11-06 17:44:16            163  \n",
            "gzuidhof/diabetic-retinopathy-detection-resized              Diabetic Retinopathy Detection Resized             12GB  2019-07-08 22:38:00            225  \n",
            "gami4388/diabetic-retinopathy-resized-train-15-19-dg         diabetic retinopathy resized_train_15_19_DG        35GB  2019-07-14 14:05:52            100  \n",
            "lrasmy/sample-diab-retn                                      BMI_6334 Sample Diab Ret                           32GB  2018-09-05 19:39:46            312  \n",
            "ukveteran/diabetic-retinopathy                               Diabetic retinopathy                                4KB  2019-10-07 10:45:05             21  \n",
            "aitude/aptos-augmented-images                                APTOS2019 - 10K Augmented Images                    3GB  2019-08-20 16:55:54             87  \n",
            "sovitrath/diabetic-retinopathy-2015-data-colored-resized     Diabetic Retinopathy 2015 Data Colored Resized      2GB  2020-03-05 10:53:06             64  \n",
            "kirollosawad/diabetic-retinopathy-4k-categorized             Diabetic Retinopathy 4k categorized                 9GB  2019-06-07 15:48:19             88  \n",
            "himanshuagarwal1998/diabetic-retinopathy                     Diabetic Retinopathy                                8GB  2020-01-11 08:15:18             35  \n",
            "sovitrath/diabetic-retinopathy-224x224-2019-data             Diabetic Retinopathy 224x224 (2019 Data)          238MB  2020-02-18 07:22:41             20  \n"
          ],
          "name": "stdout"
        }
      ]
    },
    {
      "cell_type": "code",
      "metadata": {
        "id": "67mMuhCpoEij",
        "colab_type": "code",
        "colab": {
          "base_uri": "https://localhost:8080/",
          "height": 156
        },
        "outputId": "c9ce5083-f442-49f7-a8d5-ff0888962274"
      },
      "source": [
        "!kaggle competitions download -c diabetic-retinopathy-detection"
      ],
      "execution_count": 1,
      "outputs": [
        {
          "output_type": "stream",
          "text": [
            "Traceback (most recent call last):\n",
            "  File \"/usr/local/bin/kaggle\", line 5, in <module>\n",
            "    from kaggle.cli import main\n",
            "  File \"/usr/local/lib/python2.7/dist-packages/kaggle/__init__.py\", line 23, in <module>\n",
            "    api.authenticate()\n",
            "  File \"/usr/local/lib/python2.7/dist-packages/kaggle/api/kaggle_api_extended.py\", line 146, in authenticate\n",
            "    self.config_file, self.config_dir))\n",
            "IOError: Could not find kaggle.json. Make sure it's located in /root/.kaggle. Or use the environment method.\n"
          ],
          "name": "stdout"
        }
      ]
    },
    {
      "cell_type": "code",
      "metadata": {
        "id": "cT4z29ETosZf",
        "colab_type": "code",
        "colab": {}
      },
      "source": [
        "import json\n",
        "token = {'username':'YOUR-USER-NAME','key':'SOMETHING-VERY-LONG'}\n",
        "with open('/content/kaggle.json', 'w') as file:\n",
        "    json.dump(token, file)"
      ],
      "execution_count": 0,
      "outputs": []
    },
    {
      "cell_type": "code",
      "metadata": {
        "id": "l_N7f7B2o9J4",
        "colab_type": "code",
        "colab": {}
      },
      "source": [
        "!chmod 600 /content/kaggle.json\n"
      ],
      "execution_count": 0,
      "outputs": []
    },
    {
      "cell_type": "code",
      "metadata": {
        "id": "-AFF0_TGq35k",
        "colab_type": "code",
        "colab": {
          "base_uri": "https://localhost:8080/",
          "height": 1000
        },
        "outputId": "bbc08f4e-9b00-4530-dcc0-c9e1d0d7d8c4"
      },
      "source": [
        "!kaggle competitions download -c diabetic-retinopathy-detection"
      ],
      "execution_count": 11,
      "outputs": [
        {
          "output_type": "stream",
          "text": [
            "Warning: Your Kaggle API key is readable by other users on this system! To fix this, you can run 'chmod 600 /root/.kaggle/kaggle.json'\n",
            "Warning: Looks like you're using an outdated API Version, please consider updating (server 1.5.6 / client 1.5.4)\n",
            "Downloading test.zip.004.zip to /content\n",
            "100% 7.80G/7.81G [01:59<00:00, 54.8MB/s]\n",
            "100% 7.81G/7.81G [01:59<00:00, 70.1MB/s]\n",
            "Downloading train.zip.004.zip to /content\n",
            "100% 7.81G/7.81G [02:20<00:00, 42.2MB/s]\n",
            "100% 7.81G/7.81G [02:20<00:00, 59.7MB/s]\n",
            "Downloading test.zip.002.zip to /content\n",
            "100% 7.81G/7.81G [02:16<00:00, 84.9MB/s]\n",
            "100% 7.81G/7.81G [02:16<00:00, 61.3MB/s]\n",
            "Downloading test.zip.006.zip to /content\n",
            "100% 7.81G/7.81G [02:19<00:00, 53.0MB/s]\n",
            "100% 7.81G/7.81G [02:19<00:00, 60.3MB/s]\n",
            "Downloading test.zip.007.zip to /content\n",
            "100% 2.74G/2.75G [00:48<00:00, 61.4MB/s]\n",
            "100% 2.75G/2.75G [00:48<00:00, 60.3MB/s]\n",
            "Downloading test.zip.005.zip to /content\n",
            "100% 7.81G/7.81G [02:18<00:00, 42.8MB/s]\n",
            "100% 7.81G/7.81G [02:18<00:00, 60.6MB/s]\n",
            "Downloading train.zip.002.zip to /content\n",
            "100% 7.81G/7.81G [02:18<00:00, 39.0MB/s]\n",
            "100% 7.81G/7.81G [02:18<00:00, 60.5MB/s]\n",
            "Downloading train.zip.001.zip to /content\n",
            "100% 7.80G/7.81G [02:17<00:00, 43.0MB/s]\n",
            "100% 7.81G/7.81G [02:17<00:00, 61.0MB/s]\n",
            "Downloading test.zip.003.zip to /content\n",
            "100% 7.81G/7.81G [02:19<00:00, 72.0MB/s]\n",
            "100% 7.81G/7.81G [02:19<00:00, 60.0MB/s]\n",
            "Downloading train.zip.005.zip to /content\n",
            "100% 1.33G/1.33G [00:23<00:00, 61.8MB/s]\n",
            "100% 1.33G/1.33G [00:23<00:00, 60.3MB/s]\n",
            "Downloading train.zip.003.zip to /content\n",
            "100% 7.81G/7.81G [02:18<00:00, 81.7MB/s]\n",
            "100% 7.81G/7.81G [02:18<00:00, 60.7MB/s]\n",
            "Downloading trainLabels.csv.zip to /content\n",
            "  0% 0.00/69.4k [00:00<?, ?B/s]\n",
            "100% 69.4k/69.4k [00:00<00:00, 66.4MB/s]\n",
            "Downloading sample.zip to /content\n",
            " 48% 5.00M/10.4M [00:00<00:00, 26.8MB/s]\n",
            "100% 10.4M/10.4M [00:00<00:00, 41.3MB/s]\n",
            "Downloading sampleSubmission.csv.zip to /content\n",
            "  0% 0.00/81.6k [00:00<?, ?B/s]\n",
            "100% 81.6k/81.6k [00:00<00:00, 80.1MB/s]\n",
            "Downloading test.zip.001.zip to /content\n",
            " 69% 5.41G/7.81G [01:34<00:42, 61.3MB/s]\n",
            "Traceback (most recent call last):\n",
            "  File \"/usr/local/bin/kaggle\", line 8, in <module>\n",
            "    sys.exit(main())\n",
            "  File \"/usr/local/lib/python2.7/dist-packages/kaggle/cli.py\", line 51, in main\n",
            "    out = args.func(**command_args)\n",
            "  File \"/usr/local/lib/python2.7/dist-packages/kaggle/api/kaggle_api_extended.py\", line 732, in competition_download_cli\n",
            "    quiet)\n",
            "  File \"/usr/local/lib/python2.7/dist-packages/kaggle/api/kaggle_api_extended.py\", line 699, in competition_download_files\n",
            "    force, quiet)\n",
            "  File \"/usr/local/lib/python2.7/dist-packages/kaggle/api/kaggle_api_extended.py\", line 677, in competition_download_file\n",
            "    self.download_file(response, outfile, quiet)\n",
            "  File \"/usr/local/lib/python2.7/dist-packages/kaggle/api/kaggle_api_extended.py\", line 1512, in download_file\n",
            "    out.write(data)\n",
            "IOError: [Errno 28] No space left on device\n"
          ],
          "name": "stdout"
        }
      ]
    },
    {
      "cell_type": "code",
      "metadata": {
        "id": "uNBvzWQnrCs8",
        "colab_type": "code",
        "colab": {}
      },
      "source": [
        ""
      ],
      "execution_count": 0,
      "outputs": []
    }
  ]
}